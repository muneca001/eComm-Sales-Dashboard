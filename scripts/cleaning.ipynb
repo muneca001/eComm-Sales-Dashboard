{
 "cells": [
  {
   "cell_type": "code",
   "execution_count": 1,
   "id": "8da0561e",
   "metadata": {},
   "outputs": [],
   "source": [
    "import pandas as pd\n",
    "from pathlib import Path\n",
    "import os\n",
    "from os.path import join as opj\n",
    "from tqdm.auto import tqdm\n",
    "import ast\n",
    "import numpy as np"
   ]
  },
  {
   "cell_type": "code",
   "execution_count": 2,
   "id": "38a26179",
   "metadata": {},
   "outputs": [],
   "source": [
    "BASE_DIR = os.getcwd()\n",
    "DATASET_DIR = opj(BASE_DIR, \"../data\")"
   ]
  },
  {
   "cell_type": "code",
   "execution_count": 3,
   "id": "a607ca87",
   "metadata": {},
   "outputs": [
    {
     "data": {
      "application/vnd.jupyter.widget-view+json": {
       "model_id": "daf3f8ef5d5b4678b9016422d6352d17",
       "version_major": 2,
       "version_minor": 0
      },
      "text/plain": [
       "  0%|          | 0/111189 [00:00<?, ?it/s]"
      ]
     },
     "metadata": {},
     "output_type": "display_data"
    }
   ],
   "source": [
    "i = 0\n",
    "# read dataset\n",
    "shein_data = pd.read_csv(opj(DATASET_DIR, \"shein_sample5000.csv\"), sep=\";\", encoding=\"ISO-8859-1\")\n",
    "for i in tqdm(list(range(len(shein_data)))):\n",
    "    desc, images = shein_data.iloc[i][[\"description\", \"images\"]]\n",
    "    \n",
    "    # read description and images info as lists\n",
    "    desc, images = ast.literal_eval(desc), ast.literal_eval(images)\n",
    "    shein_data.loc[i, [\"description\", \"images\"]] = [desc, images]"
   ]
  },
  {
   "cell_type": "code",
   "execution_count": null,
   "id": "d1f14c10",
   "metadata": {},
   "outputs": [],
   "source": [
    "shein_data.info()"
   ]
  },
  {
   "cell_type": "code",
   "execution_count": null,
   "id": "d2d2167f",
   "metadata": {},
   "outputs": [],
   "source": [
    "shein_data.head(20)"
   ]
  },
  {
   "cell_type": "code",
   "execution_count": null,
   "id": "26068227",
   "metadata": {},
   "outputs": [],
   "source": [
    "#dropping unwanted columns\n",
    "shein_data.drop(columns=['url'])"
   ]
  },
  {
   "cell_type": "code",
   "execution_count": null,
   "id": "65c671e3",
   "metadata": {},
   "outputs": [],
   "source": [
    "#finding all of the brand names\n",
    "shein_data['brand'].unique().tolist()"
   ]
  },
  {
   "cell_type": "code",
   "execution_count": null,
   "id": "fd1f0828",
   "metadata": {},
   "outputs": [],
   "source": [
    "#suspecting NaN values in the brand column are from the regular line\n",
    "brands_to_find = ['shein', 'SheIn', 'SHEIN','She In', 'she in', 'SHE IN']\n",
    "found = shein_data['brand'].isin(brands_to_find).any()\n",
    "print(found)"
   ]
  },
  {
   "cell_type": "code",
   "execution_count": null,
   "id": "e692dcf5",
   "metadata": {},
   "outputs": [],
   "source": [
    "#replacing NaN values with SHEIN in the brand column and checking\n",
    "shein_data['brand'] = shein_data['brand'].replace(np.nan, 'SHEIN')\n",
    "brands_to_find = ['SHEIN']\n",
    "found = shein_data['brand'].isin(brands_to_find).any()\n",
    "print(found)"
   ]
  },
  {
   "cell_type": "code",
   "execution_count": null,
   "id": "fbde8bca",
   "metadata": {},
   "outputs": [],
   "source": [
    "#changing price column to a float \n",
    "shein_data['price'] = shein_data['price'].str.replace('$', '', regex=False)\n",
    "shein_data['price'] = pd.to_numeric(shein_data['price'], errors='coerce')\n",
    "shein_data.info()"
   ]
  },
  {
   "cell_type": "code",
   "execution_count": null,
   "id": "e1cec1c1",
   "metadata": {},
   "outputs": [],
   "source": [
    "#investigating name column\n",
    "print(shein_data['name'].head(100).to_list())"
   ]
  },
  {
   "cell_type": "code",
   "execution_count": null,
   "id": "202dfdcf",
   "metadata": {},
   "outputs": [],
   "source": [
    "#category function\n",
    "def assign_category(df, col):\n",
    "\n",
    "    conditions = [\n",
    "        shein_data['name'].str.contains('Skirt', case=False, na=False),\n",
    "        shein_data['name'].str.contains('Dress', case=False, na=False),\n",
    "        shein_data['name'].str.contains('Shorts', case=False, na=False),\n",
    "        shein_data['name'].str.contains('skort', case=False, na=False),\n",
    "        shein_data['name'].str.contains('Top|Cami|Tee', case=False, na=False),\n",
    "        shein_data['name'].str.contains('Pants|Trousers|Joggers', case=False, na=False),\n",
    "        shein_data['name'].str.contains('Swimsuit', case=False, na=False),\n",
    "        shein_data['name'].str.contains('Chain', case=False, na=False),\n",
    "    ]\n",
    "\n",
    "    categories = ['Skirt', 'Dress', 'Shorts', 'Skort', 'Top', 'Pants', 'Swimsuit', 'Jewelry']\n",
    "\n",
    "    shein_data['category'] = np.select(conditions, categories, default='Other')\n",
    "    return df"
   ]
  },
  {
   "cell_type": "code",
   "execution_count": null,
   "id": "3f8ed7cc",
   "metadata": {},
   "outputs": [],
   "source": [
    "#applying the function to create a category\n",
    "shein_data = assign_category(shein_data, 'name')\n",
    "shein_data.head()"
   ]
  },
  {
   "cell_type": "code",
   "execution_count": null,
   "id": "47192410",
   "metadata": {},
   "outputs": [],
   "source": []
  }
 ],
 "metadata": {
  "kernelspec": {
   "display_name": "Python 3 (ipykernel)",
   "language": "python",
   "name": "python3"
  },
  "language_info": {
   "codemirror_mode": {
    "name": "ipython",
    "version": 3
   },
   "file_extension": ".py",
   "mimetype": "text/x-python",
   "name": "python",
   "nbconvert_exporter": "python",
   "pygments_lexer": "ipython3",
   "version": "3.10.11"
  }
 },
 "nbformat": 4,
 "nbformat_minor": 5
}
